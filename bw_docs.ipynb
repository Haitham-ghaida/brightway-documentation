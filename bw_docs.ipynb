{
 "cells": [
  {
   "attachments": {},
   "cell_type": "markdown",
   "metadata": {},
   "source": [
    "## Imports"
   ]
  },
  {
   "cell_type": "code",
   "execution_count": 2,
   "metadata": {},
   "outputs": [],
   "source": [
    "import bw2io\n",
    "import bw2data\n",
    "# type hints\n",
    "from bw2io import SingleOutputEcospold2Importer"
   ]
  },
  {
   "attachments": {},
   "cell_type": "markdown",
   "metadata": {},
   "source": [
    "## Setup"
   ]
  },
  {
   "cell_type": "code",
   "execution_count": 3,
   "metadata": {},
   "outputs": [
    {
     "data": {
      "text/plain": [
       "Brightway2 projects manager with 6 objects:\n",
       "\t3.8\n",
       "\t3.9\n",
       "\t3.9.1\n",
       "\tdefault\n",
       "\tecoinvent35\n",
       "\tecoinvent38\n",
       "Use `projects.report()` to get a report on all projects."
      ]
     },
     "execution_count": 3,
     "metadata": {},
     "output_type": "execute_result"
    }
   ],
   "source": [
    "bw2data.projects"
   ]
  },
  {
   "cell_type": "code",
   "execution_count": 4,
   "metadata": {},
   "outputs": [
    {
     "data": {
      "text/plain": [
       "'default'"
      ]
     },
     "execution_count": 4,
     "metadata": {},
     "output_type": "execute_result"
    }
   ],
   "source": [
    "bw2data.projects.current"
   ]
  },
  {
   "cell_type": "code",
   "execution_count": 5,
   "metadata": {},
   "outputs": [
    {
     "name": "stdout",
     "output_type": "stream",
     "text": [
      "Biosphere database already present!!! No setup is needed\n"
     ]
    }
   ],
   "source": [
    "bw2io.bw2setup()"
   ]
  },
  {
   "attachments": {},
   "cell_type": "markdown",
   "metadata": {},
   "source": [
    "## Playground"
   ]
  },
  {
   "cell_type": "code",
   "execution_count": 6,
   "metadata": {},
   "outputs": [
    {
     "name": "stdout",
     "output_type": "stream",
     "text": [
      "Creating backup archive - this could take a few minutes...\n"
     ]
    }
   ],
   "source": [
    "bw2io.backup.backup_data_directory()"
   ]
  },
  {
   "cell_type": "code",
   "execution_count": 9,
   "metadata": {},
   "outputs": [
    {
     "data": {
      "text/plain": [
       "'default'"
      ]
     },
     "execution_count": 9,
     "metadata": {},
     "output_type": "execute_result"
    }
   ],
   "source": [
    "bw2data.projects.current"
   ]
  },
  {
   "cell_type": "code",
   "execution_count": 8,
   "metadata": {},
   "outputs": [
    {
     "ename": "FileNotFoundError",
     "evalue": "[Errno 2] No such file or directory: '/Users/michaelweinold/Library/Application Support/Brightway3/default.c21f969b/.project-name.json'",
     "output_type": "error",
     "traceback": [
      "\u001b[0;31m---------------------------------------------------------------------------\u001b[0m",
      "\u001b[0;31mFileNotFoundError\u001b[0m                         Traceback (most recent call last)",
      "Cell \u001b[0;32mIn[8], line 1\u001b[0m\n\u001b[0;32m----> 1\u001b[0m bw2io\u001b[39m.\u001b[39;49mbackup\u001b[39m.\u001b[39;49mbackup_project_directory(\u001b[39m'\u001b[39;49m\u001b[39mdefault\u001b[39;49m\u001b[39m'\u001b[39;49m)\n",
      "File \u001b[0;32m~/github/brightway2-io/bw2io/backup.py:61\u001b[0m, in \u001b[0;36mbackup_project_directory\u001b[0;34m(project)\u001b[0m\n\u001b[1;32m     57\u001b[0m \u001b[39mif\u001b[39;00m project \u001b[39mnot\u001b[39;00m \u001b[39min\u001b[39;00m projects:\n\u001b[1;32m     58\u001b[0m     \u001b[39mraise\u001b[39;00m \u001b[39mValueError\u001b[39;00m(\u001b[39m\"\u001b[39m\u001b[39mProject \u001b[39m\u001b[39m{}\u001b[39;00m\u001b[39m does not exist\u001b[39m\u001b[39m\"\u001b[39m\u001b[39m.\u001b[39mformat(project))\n\u001b[1;32m     60\u001b[0m fp \u001b[39m=\u001b[39m os\u001b[39m.\u001b[39mpath\u001b[39m.\u001b[39mjoin(\n\u001b[0;32m---> 61\u001b[0m     os\u001b[39m.\u001b[39mpath\u001b[39m.\u001b[39mexpanduser(\u001b[39m\"\u001b[39m\u001b[39m~\u001b[39m\u001b[39m\"\u001b[39m),\n\u001b[1;32m     62\u001b[0m     \u001b[39m\"\u001b[39m\u001b[39mbrightway2-project-\u001b[39m\u001b[39m{}\u001b[39;00m\u001b[39m-backup.\u001b[39m\u001b[39m{}\u001b[39;00m\u001b[39m.tar.gz\u001b[39m\u001b[39m\"\u001b[39m\u001b[39m.\u001b[39mformat(\n\u001b[1;32m     63\u001b[0m         project, datetime\u001b[39m.\u001b[39mdatetime\u001b[39m.\u001b[39mnow()\u001b[39m.\u001b[39mstrftime(\u001b[39m\"\u001b[39m\u001b[39m%d\u001b[39;00m\u001b[39m-\u001b[39m\u001b[39m%\u001b[39m\u001b[39mB-\u001b[39m\u001b[39m%\u001b[39m\u001b[39mY-\u001b[39m\u001b[39m%\u001b[39m\u001b[39mI-\u001b[39m\u001b[39m%\u001b[39m\u001b[39mM\u001b[39m\u001b[39m%\u001b[39m\u001b[39mp\u001b[39m\u001b[39m\"\u001b[39m)\n\u001b[1;32m     64\u001b[0m     ),\n\u001b[1;32m     65\u001b[0m )\n\u001b[1;32m     66\u001b[0m dir_path \u001b[39m=\u001b[39m os\u001b[39m.\u001b[39mpath\u001b[39m.\u001b[39mjoin(projects\u001b[39m.\u001b[39m_base_data_dir, safe_filename(project))\n\u001b[1;32m     67\u001b[0m \u001b[39mwith\u001b[39;00m \u001b[39mopen\u001b[39m(os\u001b[39m.\u001b[39mpath\u001b[39m.\u001b[39mjoin(dir_path, \u001b[39m\"\u001b[39m\u001b[39m.project-name.json\u001b[39m\u001b[39m\"\u001b[39m), \u001b[39m\"\u001b[39m\u001b[39mw\u001b[39m\u001b[39m\"\u001b[39m) \u001b[39mas\u001b[39;00m f:\n",
      "\u001b[0;31mFileNotFoundError\u001b[0m: [Errno 2] No such file or directory: '/Users/michaelweinold/Library/Application Support/Brightway3/default.c21f969b/.project-name.json'"
     ]
    }
   ],
   "source": [
    "bw2io.backup.backup_project_directory('default')"
   ]
  }
 ],
 "metadata": {
  "kernelspec": {
   "display_name": "bw_docs",
   "language": "python",
   "name": "python3"
  },
  "language_info": {
   "codemirror_mode": {
    "name": "ipython",
    "version": 3
   },
   "file_extension": ".py",
   "mimetype": "text/x-python",
   "name": "python",
   "nbconvert_exporter": "python",
   "pygments_lexer": "ipython3",
   "version": "3.11.0"
  },
  "orig_nbformat": 4
 },
 "nbformat": 4,
 "nbformat_minor": 2
}
